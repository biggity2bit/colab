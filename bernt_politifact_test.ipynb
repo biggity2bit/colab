{
  "nbformat": 4,
  "nbformat_minor": 0,
  "metadata": {
    "colab": {
      "name": "bernt_politifact_test.ipynb",
      "provenance": [],
      "collapsed_sections": [],
      "authorship_tag": "ABX9TyPcbJica3CfzwjJu4gzXqQJ",
      "include_colab_link": true
    },
    "kernelspec": {
      "name": "python3",
      "display_name": "Python 3"
    }
  },
  "cells": [
    {
      "cell_type": "markdown",
      "metadata": {
        "id": "view-in-github",
        "colab_type": "text"
      },
      "source": [
        "<a href=\"https://colab.research.google.com/github/biggity2bit/colab/blob/master/bernt_politifact_test.ipynb\" target=\"_parent\"><img src=\"https://colab.research.google.com/assets/colab-badge.svg\" alt=\"Open In Colab\"/></a>"
      ]
    },
    {
      "cell_type": "code",
      "metadata": {
        "id": "0mqeBfMgc6G9",
        "colab_type": "code",
        "colab": {}
      },
      "source": [
        "# Install Java, Spark, and Findspark\n",
        "!apt-get install openjdk-8-jdk-headless -qq > /dev/null\n",
        "!wget -q http://www-us.apache.org/dist/spark/spark-2.4.5/spark-2.4.5-bin-hadoop2.7.tgz\n",
        "!tar xf spark-2.4.5-bin-hadoop2.7.tgz\n",
        "!pip install -q findspark\n",
        "\n",
        "# Set Environment Variables\n",
        "import os\n",
        "os.environ[\"JAVA_HOME\"] = \"/usr/lib/jvm/java-8-openjdk-amd64\"\n",
        "os.environ[\"SPARK_HOME\"] = \"/content/spark-2.4.5-bin-hadoop2.7\"\n",
        "\n",
        "# Start a SparkSession\n",
        "import findspark\n",
        "findspark.init()"
      ],
      "execution_count": 0,
      "outputs": []
    },
    {
      "cell_type": "code",
      "metadata": {
        "id": "6BkI3sNjdDs4",
        "colab_type": "code",
        "colab": {}
      },
      "source": [
        "from pyspark.ml.feature import Tokenizer\n",
        "from pyspark.sql.functions import col, udf\n",
        "from pyspark.sql.types import IntegerType"
      ],
      "execution_count": 0,
      "outputs": []
    },
    {
      "cell_type": "code",
      "metadata": {
        "id": "fgqQ34UvdEUo",
        "colab_type": "code",
        "colab": {
          "base_uri": "https://localhost:8080/",
          "height": 105
        },
        "outputId": "22bae7fd-455f-446e-9f80-22269228c555"
      },
      "source": [
        "# Basic libraries\n",
        "import numpy as np\n",
        "import pandas as pd\n",
        "\n",
        "# Data Visualization\n",
        "import matplotlib.pyplot as plt\n",
        "import seaborn as sns\n",
        "%config InlineBackend.figure_format = 'retina'\n",
        "%matplotlib inline\n",
        "\n",
        "# Natural Language Processing\n",
        "from sklearn.feature_extraction import stop_words\n",
        "from sklearn.feature_extraction.text import CountVectorizer, TfidfVectorizer\n",
        "\n",
        "# Modeling\n",
        "from sklearn.linear_model import LogisticRegression\n",
        "from sklearn.model_selection import train_test_split, GridSearchCV\n",
        "from sklearn.pipeline import Pipeline\n",
        "from sklearn.naive_bayes import MultinomialNB\n",
        "from sklearn import metrics\n",
        "from sklearn.metrics import accuracy_score, recall_score, precision_score, confusion_matrix"
      ],
      "execution_count": 3,
      "outputs": [
        {
          "output_type": "stream",
          "text": [
            "/usr/local/lib/python3.6/dist-packages/statsmodels/tools/_testing.py:19: FutureWarning: pandas.util.testing is deprecated. Use the functions in the public API at pandas.testing instead.\n",
            "  import pandas.util.testing as tm\n",
            "/usr/local/lib/python3.6/dist-packages/sklearn/utils/deprecation.py:144: FutureWarning: The sklearn.feature_extraction.stop_words module is  deprecated in version 0.22 and will be removed in version 0.24. The corresponding classes / functions should instead be imported from sklearn.feature_extraction.text. Anything that cannot be imported from sklearn.feature_extraction.text is now part of the private API.\n",
            "  warnings.warn(message, FutureWarning)\n"
          ],
          "name": "stderr"
        }
      ]
    },
    {
      "cell_type": "code",
      "metadata": {
        "id": "tYr1liN6dEXf",
        "colab_type": "code",
        "colab": {}
      },
      "source": [
        "# Start Spark session\n",
        "from pyspark.sql import SparkSession\n",
        "spark = SparkSession.builder.appName(\"NaiveBayes\").getOrCreate()"
      ],
      "execution_count": 0,
      "outputs": []
    },
    {
      "cell_type": "code",
      "metadata": {
        "id": "E_xu-jHqdPtP",
        "colab_type": "code",
        "colab": {
          "base_uri": "https://localhost:8080/",
          "height": 459
        },
        "outputId": "6f342ca3-2578-4a05-949b-b4cc0513c7be"
      },
      "source": [
        "# Read in data from S3 Buckets\n",
        "from pyspark import SparkFiles\n",
        "url =\"https://news-detector-project.s3.us-east-2.amazonaws.com/FakeNews.csv\"\n",
        "spark.sparkContext.addFile(url)\n",
        "df_fake = spark.read.csv(SparkFiles.get(\"FakeNews.csv\"), sep=\",\", header=True)\n",
        "\n",
        "# Show DataFrame\n",
        "df_fake.show()"
      ],
      "execution_count": 5,
      "outputs": [
        {
          "output_type": "stream",
          "text": [
            "+--------------------+--------------------+--------------+-----------+\n",
            "|               title|         articletext|articlesubject|articledate|\n",
            "+--------------------+--------------------+--------------+-----------+\n",
            "| Donald Trump Sen...|Donald Trump just...|          News|  31-Dec-17|\n",
            "| Drunk Bragging T...|House Intelligenc...|          News|  31-Dec-17|\n",
            "| Sheriff David Cl...|On Friday, it was...|          News|  30-Dec-17|\n",
            "| Trump Is So Obse...|On Christmas day,...|          News|  29-Dec-17|\n",
            "| Pope Francis Jus...|Pope Francis used...|          News|  25-Dec-17|\n",
            "| Racist Alabama C...|The number of cas...|          News|  25-Dec-17|\n",
            "| Fresh Off The Go...|Donald Trump spen...|          News|  23-Dec-17|\n",
            "| Trump Said Some ...|In the wake of ye...|          News|  23-Dec-17|\n",
            "| Former CIA Direc...|Many people have ...|          News|  22-Dec-17|\n",
            "| WATCH: Brand-New...|Just when you mig...|          News|  21-Dec-17|\n",
            "| Papa John’s Foun...|A centerpiece of ...|          News|  21-Dec-17|\n",
            "| WATCH: Paul Ryan...|Republicans are w...|          News|  21-Dec-17|\n",
            "| Bad News For Tru...|Republicans have ...|          News|  21-Dec-17|\n",
            "| WATCH: Lindsey G...|The media has bee...|          News|  20-Dec-17|\n",
            "| Heiress To Disne...|Abigail Disney is...|          News|  20-Dec-17|\n",
            "| Tone Deaf Trump:...|Donald Trump just...|          News|  20-Dec-17|\n",
            "| The Internet Bru...|A new animatronic...|          News|  19-Dec-17|\n",
            "| Mueller Spokesma...|Trump supporters ...|          News|  17-Dec-17|\n",
            "| SNL Hilariously ...|Right now, the wh...|          News|  17-Dec-17|\n",
            "| Republican Senat...|Senate Majority W...|          News|  16-Dec-17|\n",
            "+--------------------+--------------------+--------------+-----------+\n",
            "only showing top 20 rows\n",
            "\n"
          ],
          "name": "stdout"
        }
      ]
    },
    {
      "cell_type": "code",
      "metadata": {
        "id": "9A6J_BQ-dPwM",
        "colab_type": "code",
        "colab": {
          "base_uri": "https://localhost:8080/",
          "height": 459
        },
        "outputId": "d928e700-4e6c-4b3c-e397-d061f2375bf5"
      },
      "source": [
        "# Read in data from S3 Buckets\n",
        "from pyspark import SparkFiles\n",
        "url =\"https://news-detector-project.s3.us-east-2.amazonaws.com/TrueNews.csv\"\n",
        "spark.sparkContext.addFile(url)\n",
        "df_true = spark.read.csv(SparkFiles.get(\"TrueNews.csv\"), sep=\",\", header=True)\n",
        "\n",
        "# Show DataFrame\n",
        "df_true.show()"
      ],
      "execution_count": 6,
      "outputs": [
        {
          "output_type": "stream",
          "text": [
            "+--------------------+--------------------+--------------------+------------+\n",
            "|               title|         articletext|      articlesubject| articledate|\n",
            "+--------------------+--------------------+--------------------+------------+\n",
            "|As U.S. budget fi...|WASHINGTON (Reute...|        politicsNews|   31-Dec-17|\n",
            "|U.S. military to ...|WASHINGTON (Reute...|        politicsNews|   29-Dec-17|\n",
            "|Senior U.S. Repub...|WASHINGTON (Reute...|        politicsNews|   31-Dec-17|\n",
            "|FBI Russia probe ...|WASHINGTON (Reute...|        politicsNews|   30-Dec-17|\n",
            "|Trump wants Posta...|SEATTLE/WASHINGTO...|        politicsNews|   29-Dec-17|\n",
            "|White House, Cong...|WEST PALM BEACH, ...|        politicsNews|   29-Dec-17|\n",
            "|Trump says Russia...|WEST PALM BEACH, ...|        politicsNews|   29-Dec-17|\n",
            "|Factbox: Trump on...|The following sta...|        politicsNews|   29-Dec-17|\n",
            "|Trump on Twitter ...|The following sta...|        politicsNews|   29-Dec-17|\n",
            "|Alabama official ...|WASHINGTON (Reute...|        politicsNews|   28-Dec-17|\n",
            "|Jones certified U...|(Reuters) - Alaba...|        politicsNews|   28-Dec-17|\n",
            "|New York governor...|NEW YORK/WASHINGT...|        politicsNews|   28-Dec-17|\n",
            "|Factbox: Trump on...|The following sta...|        politicsNews|   28-Dec-17|\n",
            "|Trump on Twitter ...|\"The following st...| Associates Up 83...|politicsNews|\n",
            "|Man says he deliv...| (In Dec. 25 stor...|        politicsNews|   25-Dec-17|\n",
            "|Virginia official...|(Reuters) - A lot...|        politicsNews|   27-Dec-17|\n",
            "|U.S. lawmakers qu...|WASHINGTON (Reute...|        politicsNews|   27-Dec-17|\n",
            "|Trump on Twitter ...|The following sta...|        politicsNews|   26-Dec-17|\n",
            "|U.S. appeals cour...|(Reuters) - A U.S...|        politicsNews|   26-Dec-17|\n",
            "|Treasury Secretar...|(Reuters) - A gif...|        politicsNews|   24-Dec-17|\n",
            "+--------------------+--------------------+--------------------+------------+\n",
            "only showing top 20 rows\n",
            "\n"
          ],
          "name": "stdout"
        }
      ]
    },
    {
      "cell_type": "code",
      "metadata": {
        "id": "xP9uisWQdP2R",
        "colab_type": "code",
        "colab": {
          "base_uri": "https://localhost:8080/",
          "height": 204
        },
        "outputId": "4675407e-3e0f-4d3d-97b0-9e4660075e28"
      },
      "source": [
        "# import pandas as pd\n",
        "fake_df = df_fake.toPandas() \n",
        "true_df = df_true.toPandas() \n",
        "true_df.head()"
      ],
      "execution_count": 7,
      "outputs": [
        {
          "output_type": "execute_result",
          "data": {
            "text/html": [
              "<div>\n",
              "<style scoped>\n",
              "    .dataframe tbody tr th:only-of-type {\n",
              "        vertical-align: middle;\n",
              "    }\n",
              "\n",
              "    .dataframe tbody tr th {\n",
              "        vertical-align: top;\n",
              "    }\n",
              "\n",
              "    .dataframe thead th {\n",
              "        text-align: right;\n",
              "    }\n",
              "</style>\n",
              "<table border=\"1\" class=\"dataframe\">\n",
              "  <thead>\n",
              "    <tr style=\"text-align: right;\">\n",
              "      <th></th>\n",
              "      <th>title</th>\n",
              "      <th>articletext</th>\n",
              "      <th>articlesubject</th>\n",
              "      <th>articledate</th>\n",
              "    </tr>\n",
              "  </thead>\n",
              "  <tbody>\n",
              "    <tr>\n",
              "      <th>0</th>\n",
              "      <td>As U.S. budget fight looms, Republicans flip t...</td>\n",
              "      <td>WASHINGTON (Reuters) - The head of a conservat...</td>\n",
              "      <td>politicsNews</td>\n",
              "      <td>31-Dec-17</td>\n",
              "    </tr>\n",
              "    <tr>\n",
              "      <th>1</th>\n",
              "      <td>U.S. military to accept transgender recruits o...</td>\n",
              "      <td>WASHINGTON (Reuters) - Transgender people will...</td>\n",
              "      <td>politicsNews</td>\n",
              "      <td>29-Dec-17</td>\n",
              "    </tr>\n",
              "    <tr>\n",
              "      <th>2</th>\n",
              "      <td>Senior U.S. Republican senator: 'Let Mr. Muell...</td>\n",
              "      <td>WASHINGTON (Reuters) - The special counsel inv...</td>\n",
              "      <td>politicsNews</td>\n",
              "      <td>31-Dec-17</td>\n",
              "    </tr>\n",
              "    <tr>\n",
              "      <th>3</th>\n",
              "      <td>FBI Russia probe helped by Australian diplomat...</td>\n",
              "      <td>WASHINGTON (Reuters) - Trump campaign adviser ...</td>\n",
              "      <td>politicsNews</td>\n",
              "      <td>30-Dec-17</td>\n",
              "    </tr>\n",
              "    <tr>\n",
              "      <th>4</th>\n",
              "      <td>Trump wants Postal Service to charge 'much mor...</td>\n",
              "      <td>SEATTLE/WASHINGTON (Reuters) - President Donal...</td>\n",
              "      <td>politicsNews</td>\n",
              "      <td>29-Dec-17</td>\n",
              "    </tr>\n",
              "  </tbody>\n",
              "</table>\n",
              "</div>"
            ],
            "text/plain": [
              "                                               title  ... articledate\n",
              "0  As U.S. budget fight looms, Republicans flip t...  ...   31-Dec-17\n",
              "1  U.S. military to accept transgender recruits o...  ...   29-Dec-17\n",
              "2  Senior U.S. Republican senator: 'Let Mr. Muell...  ...   31-Dec-17\n",
              "3  FBI Russia probe helped by Australian diplomat...  ...   30-Dec-17\n",
              "4  Trump wants Postal Service to charge 'much mor...  ...   29-Dec-17\n",
              "\n",
              "[5 rows x 4 columns]"
            ]
          },
          "metadata": {
            "tags": []
          },
          "execution_count": 7
        }
      ]
    },
    {
      "cell_type": "code",
      "metadata": {
        "id": "E_fZeyrYdP0b",
        "colab_type": "code",
        "colab": {}
      },
      "source": [
        ""
      ],
      "execution_count": 0,
      "outputs": []
    }
  ]
}